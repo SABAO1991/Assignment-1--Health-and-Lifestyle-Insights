{
 "cells": [
  {
   "cell_type": "code",
   "execution_count": 33,
   "metadata": {},
   "outputs": [],
   "source": [
    "#importing packages\n",
    "import pandas as pd\n",
    "import numpy as np\n",
    "import matplotlib.pyplot as plt\n",
    "import seaborn as sns"
   ]
  },
  {
   "cell_type": "code",
   "execution_count": 34,
   "metadata": {},
   "outputs": [
    {
     "name": "stdout",
     "output_type": "stream",
     "text": [
      " Volume in drive C is Windows\n",
      " Volume Serial Number is F2F6-0373\n",
      "\n",
      " Directory of C:\\Users\\leons\\Desktop\\TESTING 1\n",
      "\n",
      "04/10/2024  01:01 am    <DIR>          .\n",
      "04/10/2024  12:41 am    <DIR>          ..\n",
      "03/10/2024  02:01 am    <DIR>          .ipynb_checkpoints\n",
      "04/10/2024  01:01 am           282,034 Assignment 1- Health and Lifestyle Insights.ipynb\n",
      "04/10/2024  12:55 am            15,077 Frequency of Age.png\n",
      "04/10/2024  12:55 am            11,335 Frequency of Gender.png\n",
      "04/10/2024  12:55 am            19,186 Frequency of Occupation.png\n",
      "29/09/2024  10:54 am            24,137 Sleep_health_and_lifestyle_dataset.csv\n",
      "               5 File(s)        351,769 bytes\n",
      "               3 Dir(s)  158,113,464,320 bytes free\n"
     ]
    }
   ],
   "source": [
    "ls"
   ]
  },
  {
   "cell_type": "code",
   "execution_count": 35,
   "metadata": {},
   "outputs": [],
   "source": [
    "#loading the data \n",
    "ds=pd.read_csv('Sleep_health_and_lifestyle_dataset.csv')"
   ]
  },
  {
   "cell_type": "code",
   "execution_count": 36,
   "metadata": {},
   "outputs": [
    {
     "data": {
      "text/html": [
       "<div>\n",
       "<style scoped>\n",
       "    .dataframe tbody tr th:only-of-type {\n",
       "        vertical-align: middle;\n",
       "    }\n",
       "\n",
       "    .dataframe tbody tr th {\n",
       "        vertical-align: top;\n",
       "    }\n",
       "\n",
       "    .dataframe thead th {\n",
       "        text-align: right;\n",
       "    }\n",
       "</style>\n",
       "<table border=\"1\" class=\"dataframe\">\n",
       "  <thead>\n",
       "    <tr style=\"text-align: right;\">\n",
       "      <th></th>\n",
       "      <th>Person ID</th>\n",
       "      <th>Gender</th>\n",
       "      <th>Age</th>\n",
       "      <th>Occupation</th>\n",
       "      <th>Sleep Duration</th>\n",
       "      <th>Quality of Sleep</th>\n",
       "      <th>Physical Activity Level</th>\n",
       "      <th>Stress Level</th>\n",
       "      <th>BMI Category</th>\n",
       "      <th>Blood Pressure</th>\n",
       "      <th>Heart Rate</th>\n",
       "      <th>Daily Steps</th>\n",
       "      <th>Sleep Disorder</th>\n",
       "    </tr>\n",
       "  </thead>\n",
       "  <tbody>\n",
       "    <tr>\n",
       "      <th>0</th>\n",
       "      <td>1</td>\n",
       "      <td>Male</td>\n",
       "      <td>27</td>\n",
       "      <td>Software Engineer</td>\n",
       "      <td>6.1</td>\n",
       "      <td>6</td>\n",
       "      <td>42</td>\n",
       "      <td>6</td>\n",
       "      <td>Overweight</td>\n",
       "      <td>126/83</td>\n",
       "      <td>77</td>\n",
       "      <td>4200</td>\n",
       "      <td>None</td>\n",
       "    </tr>\n",
       "    <tr>\n",
       "      <th>1</th>\n",
       "      <td>2</td>\n",
       "      <td>Male</td>\n",
       "      <td>28</td>\n",
       "      <td>Doctor</td>\n",
       "      <td>6.2</td>\n",
       "      <td>6</td>\n",
       "      <td>60</td>\n",
       "      <td>8</td>\n",
       "      <td>Normal</td>\n",
       "      <td>125/80</td>\n",
       "      <td>75</td>\n",
       "      <td>10000</td>\n",
       "      <td>None</td>\n",
       "    </tr>\n",
       "    <tr>\n",
       "      <th>2</th>\n",
       "      <td>3</td>\n",
       "      <td>Male</td>\n",
       "      <td>28</td>\n",
       "      <td>Doctor</td>\n",
       "      <td>6.2</td>\n",
       "      <td>6</td>\n",
       "      <td>60</td>\n",
       "      <td>8</td>\n",
       "      <td>Normal</td>\n",
       "      <td>125/80</td>\n",
       "      <td>75</td>\n",
       "      <td>10000</td>\n",
       "      <td>None</td>\n",
       "    </tr>\n",
       "    <tr>\n",
       "      <th>3</th>\n",
       "      <td>4</td>\n",
       "      <td>Male</td>\n",
       "      <td>28</td>\n",
       "      <td>Sales Representative</td>\n",
       "      <td>5.9</td>\n",
       "      <td>4</td>\n",
       "      <td>30</td>\n",
       "      <td>8</td>\n",
       "      <td>Obese</td>\n",
       "      <td>140/90</td>\n",
       "      <td>85</td>\n",
       "      <td>3000</td>\n",
       "      <td>Sleep Apnea</td>\n",
       "    </tr>\n",
       "    <tr>\n",
       "      <th>4</th>\n",
       "      <td>5</td>\n",
       "      <td>Male</td>\n",
       "      <td>28</td>\n",
       "      <td>Sales Representative</td>\n",
       "      <td>5.9</td>\n",
       "      <td>4</td>\n",
       "      <td>30</td>\n",
       "      <td>8</td>\n",
       "      <td>Obese</td>\n",
       "      <td>140/90</td>\n",
       "      <td>85</td>\n",
       "      <td>3000</td>\n",
       "      <td>Sleep Apnea</td>\n",
       "    </tr>\n",
       "    <tr>\n",
       "      <th>...</th>\n",
       "      <td>...</td>\n",
       "      <td>...</td>\n",
       "      <td>...</td>\n",
       "      <td>...</td>\n",
       "      <td>...</td>\n",
       "      <td>...</td>\n",
       "      <td>...</td>\n",
       "      <td>...</td>\n",
       "      <td>...</td>\n",
       "      <td>...</td>\n",
       "      <td>...</td>\n",
       "      <td>...</td>\n",
       "      <td>...</td>\n",
       "    </tr>\n",
       "    <tr>\n",
       "      <th>369</th>\n",
       "      <td>370</td>\n",
       "      <td>Female</td>\n",
       "      <td>59</td>\n",
       "      <td>Nurse</td>\n",
       "      <td>8.1</td>\n",
       "      <td>9</td>\n",
       "      <td>75</td>\n",
       "      <td>3</td>\n",
       "      <td>Overweight</td>\n",
       "      <td>140/95</td>\n",
       "      <td>68</td>\n",
       "      <td>7000</td>\n",
       "      <td>Sleep Apnea</td>\n",
       "    </tr>\n",
       "    <tr>\n",
       "      <th>370</th>\n",
       "      <td>371</td>\n",
       "      <td>Female</td>\n",
       "      <td>59</td>\n",
       "      <td>Nurse</td>\n",
       "      <td>8.0</td>\n",
       "      <td>9</td>\n",
       "      <td>75</td>\n",
       "      <td>3</td>\n",
       "      <td>Overweight</td>\n",
       "      <td>140/95</td>\n",
       "      <td>68</td>\n",
       "      <td>7000</td>\n",
       "      <td>Sleep Apnea</td>\n",
       "    </tr>\n",
       "    <tr>\n",
       "      <th>371</th>\n",
       "      <td>372</td>\n",
       "      <td>Female</td>\n",
       "      <td>59</td>\n",
       "      <td>Nurse</td>\n",
       "      <td>8.1</td>\n",
       "      <td>9</td>\n",
       "      <td>75</td>\n",
       "      <td>3</td>\n",
       "      <td>Overweight</td>\n",
       "      <td>140/95</td>\n",
       "      <td>68</td>\n",
       "      <td>7000</td>\n",
       "      <td>Sleep Apnea</td>\n",
       "    </tr>\n",
       "    <tr>\n",
       "      <th>372</th>\n",
       "      <td>373</td>\n",
       "      <td>Female</td>\n",
       "      <td>59</td>\n",
       "      <td>Nurse</td>\n",
       "      <td>8.1</td>\n",
       "      <td>9</td>\n",
       "      <td>75</td>\n",
       "      <td>3</td>\n",
       "      <td>Overweight</td>\n",
       "      <td>140/95</td>\n",
       "      <td>68</td>\n",
       "      <td>7000</td>\n",
       "      <td>Sleep Apnea</td>\n",
       "    </tr>\n",
       "    <tr>\n",
       "      <th>373</th>\n",
       "      <td>374</td>\n",
       "      <td>Female</td>\n",
       "      <td>59</td>\n",
       "      <td>Nurse</td>\n",
       "      <td>8.1</td>\n",
       "      <td>9</td>\n",
       "      <td>75</td>\n",
       "      <td>3</td>\n",
       "      <td>Overweight</td>\n",
       "      <td>140/95</td>\n",
       "      <td>68</td>\n",
       "      <td>7000</td>\n",
       "      <td>Sleep Apnea</td>\n",
       "    </tr>\n",
       "  </tbody>\n",
       "</table>\n",
       "<p>374 rows × 13 columns</p>\n",
       "</div>"
      ],
      "text/plain": [
       "     Person ID  Gender  Age            Occupation  Sleep Duration  \\\n",
       "0            1    Male   27     Software Engineer             6.1   \n",
       "1            2    Male   28                Doctor             6.2   \n",
       "2            3    Male   28                Doctor             6.2   \n",
       "3            4    Male   28  Sales Representative             5.9   \n",
       "4            5    Male   28  Sales Representative             5.9   \n",
       "..         ...     ...  ...                   ...             ...   \n",
       "369        370  Female   59                 Nurse             8.1   \n",
       "370        371  Female   59                 Nurse             8.0   \n",
       "371        372  Female   59                 Nurse             8.1   \n",
       "372        373  Female   59                 Nurse             8.1   \n",
       "373        374  Female   59                 Nurse             8.1   \n",
       "\n",
       "     Quality of Sleep  Physical Activity Level  Stress Level BMI Category  \\\n",
       "0                   6                       42             6   Overweight   \n",
       "1                   6                       60             8       Normal   \n",
       "2                   6                       60             8       Normal   \n",
       "3                   4                       30             8        Obese   \n",
       "4                   4                       30             8        Obese   \n",
       "..                ...                      ...           ...          ...   \n",
       "369                 9                       75             3   Overweight   \n",
       "370                 9                       75             3   Overweight   \n",
       "371                 9                       75             3   Overweight   \n",
       "372                 9                       75             3   Overweight   \n",
       "373                 9                       75             3   Overweight   \n",
       "\n",
       "    Blood Pressure  Heart Rate  Daily Steps Sleep Disorder  \n",
       "0           126/83          77         4200           None  \n",
       "1           125/80          75        10000           None  \n",
       "2           125/80          75        10000           None  \n",
       "3           140/90          85         3000    Sleep Apnea  \n",
       "4           140/90          85         3000    Sleep Apnea  \n",
       "..             ...         ...          ...            ...  \n",
       "369         140/95          68         7000    Sleep Apnea  \n",
       "370         140/95          68         7000    Sleep Apnea  \n",
       "371         140/95          68         7000    Sleep Apnea  \n",
       "372         140/95          68         7000    Sleep Apnea  \n",
       "373         140/95          68         7000    Sleep Apnea  \n",
       "\n",
       "[374 rows x 13 columns]"
      ]
     },
     "execution_count": 36,
     "metadata": {},
     "output_type": "execute_result"
    }
   ],
   "source": [
    "ds"
   ]
  },
  {
   "cell_type": "code",
   "execution_count": 37,
   "metadata": {},
   "outputs": [
    {
     "data": {
      "text/plain": [
       "Index(['Person ID', 'Gender', 'Age', 'Occupation', 'Sleep Duration',\n",
       "       'Quality of Sleep', 'Physical Activity Level', 'Stress Level',\n",
       "       'BMI Category', 'Blood Pressure', 'Heart Rate', 'Daily Steps',\n",
       "       'Sleep Disorder'],\n",
       "      dtype='object')"
      ]
     },
     "execution_count": 37,
     "metadata": {},
     "output_type": "execute_result"
    }
   ],
   "source": [
    "ds.columns "
   ]
  },
  {
   "cell_type": "code",
   "execution_count": 38,
   "metadata": {},
   "outputs": [
    {
     "name": "stdout",
     "output_type": "stream",
     "text": [
      "Person ID                    int64\n",
      "Gender                      object\n",
      "Age                          int64\n",
      "Occupation                  object\n",
      "Sleep Duration             float64\n",
      "Quality of Sleep             int64\n",
      "Physical Activity Level      int64\n",
      "Stress Level                 int64\n",
      "BMI Category                object\n",
      "Blood Pressure              object\n",
      "Heart Rate                   int64\n",
      "Daily Steps                  int64\n",
      "Sleep Disorder              object\n",
      "dtype: object\n"
     ]
    }
   ],
   "source": [
    "#we detarmnine the data types in each column \n",
    "print(ds.dtypes)"
   ]
  },
  {
   "cell_type": "code",
   "execution_count": 39,
   "metadata": {},
   "outputs": [
    {
     "data": {
      "text/plain": [
       "0      27\n",
       "1      28\n",
       "2      28\n",
       "3      28\n",
       "4      28\n",
       "       ..\n",
       "369    59\n",
       "370    59\n",
       "371    59\n",
       "372    59\n",
       "373    59\n",
       "Name: Age, Length: 374, dtype: int64"
      ]
     },
     "execution_count": 39,
     "metadata": {},
     "output_type": "execute_result"
    }
   ],
   "source": [
    "#calling the data set for Age \n",
    "ds['Age']"
   ]
  },
  {
   "cell_type": "code",
   "execution_count": 40,
   "metadata": {},
   "outputs": [
    {
     "data": {
      "text/plain": [
       "42.18449197860963"
      ]
     },
     "execution_count": 40,
     "metadata": {},
     "output_type": "execute_result"
    }
   ],
   "source": [
    "ds['Age'].mean()"
   ]
  },
  {
   "cell_type": "code",
   "execution_count": 41,
   "metadata": {},
   "outputs": [
    {
     "data": {
      "text/plain": [
       "count    374.000000\n",
       "mean      42.184492\n",
       "std        8.673133\n",
       "min       27.000000\n",
       "25%       35.250000\n",
       "50%       43.000000\n",
       "75%       50.000000\n",
       "max       59.000000\n",
       "Name: Age, dtype: float64"
      ]
     },
     "execution_count": 41,
     "metadata": {},
     "output_type": "execute_result"
    }
   ],
   "source": [
    "#geting the summary statistic of age\n",
    "summary = ds['Age'].describe()\n",
    "summary"
   ]
  },
  {
   "cell_type": "code",
   "execution_count": 42,
   "metadata": {},
   "outputs": [
    {
     "data": {
      "text/html": [
       "<div>\n",
       "<style scoped>\n",
       "    .dataframe tbody tr th:only-of-type {\n",
       "        vertical-align: middle;\n",
       "    }\n",
       "\n",
       "    .dataframe tbody tr th {\n",
       "        vertical-align: top;\n",
       "    }\n",
       "\n",
       "    .dataframe thead th {\n",
       "        text-align: right;\n",
       "    }\n",
       "</style>\n",
       "<table border=\"1\" class=\"dataframe\">\n",
       "  <thead>\n",
       "    <tr style=\"text-align: right;\">\n",
       "      <th></th>\n",
       "      <th>Age</th>\n",
       "      <th>Sleep Duration</th>\n",
       "      <th>Quality of Sleep</th>\n",
       "      <th>Physical Activity Level</th>\n",
       "      <th>Stress Level</th>\n",
       "      <th>Heart Rate</th>\n",
       "      <th>Daily Steps</th>\n",
       "    </tr>\n",
       "  </thead>\n",
       "  <tbody>\n",
       "    <tr>\n",
       "      <th>count</th>\n",
       "      <td>374.000000</td>\n",
       "      <td>374.000000</td>\n",
       "      <td>374.000000</td>\n",
       "      <td>374.000000</td>\n",
       "      <td>374.000000</td>\n",
       "      <td>374.000000</td>\n",
       "      <td>374.000000</td>\n",
       "    </tr>\n",
       "    <tr>\n",
       "      <th>mean</th>\n",
       "      <td>42.184492</td>\n",
       "      <td>7.132086</td>\n",
       "      <td>7.312834</td>\n",
       "      <td>59.171123</td>\n",
       "      <td>5.385027</td>\n",
       "      <td>70.165775</td>\n",
       "      <td>6816.844920</td>\n",
       "    </tr>\n",
       "    <tr>\n",
       "      <th>std</th>\n",
       "      <td>8.673133</td>\n",
       "      <td>0.795657</td>\n",
       "      <td>1.196956</td>\n",
       "      <td>20.830804</td>\n",
       "      <td>1.774526</td>\n",
       "      <td>4.135676</td>\n",
       "      <td>1617.915679</td>\n",
       "    </tr>\n",
       "    <tr>\n",
       "      <th>min</th>\n",
       "      <td>27.000000</td>\n",
       "      <td>5.800000</td>\n",
       "      <td>4.000000</td>\n",
       "      <td>30.000000</td>\n",
       "      <td>3.000000</td>\n",
       "      <td>65.000000</td>\n",
       "      <td>3000.000000</td>\n",
       "    </tr>\n",
       "    <tr>\n",
       "      <th>25%</th>\n",
       "      <td>35.250000</td>\n",
       "      <td>6.400000</td>\n",
       "      <td>6.000000</td>\n",
       "      <td>45.000000</td>\n",
       "      <td>4.000000</td>\n",
       "      <td>68.000000</td>\n",
       "      <td>5600.000000</td>\n",
       "    </tr>\n",
       "    <tr>\n",
       "      <th>50%</th>\n",
       "      <td>43.000000</td>\n",
       "      <td>7.200000</td>\n",
       "      <td>7.000000</td>\n",
       "      <td>60.000000</td>\n",
       "      <td>5.000000</td>\n",
       "      <td>70.000000</td>\n",
       "      <td>7000.000000</td>\n",
       "    </tr>\n",
       "    <tr>\n",
       "      <th>75%</th>\n",
       "      <td>50.000000</td>\n",
       "      <td>7.800000</td>\n",
       "      <td>8.000000</td>\n",
       "      <td>75.000000</td>\n",
       "      <td>7.000000</td>\n",
       "      <td>72.000000</td>\n",
       "      <td>8000.000000</td>\n",
       "    </tr>\n",
       "    <tr>\n",
       "      <th>max</th>\n",
       "      <td>59.000000</td>\n",
       "      <td>8.500000</td>\n",
       "      <td>9.000000</td>\n",
       "      <td>90.000000</td>\n",
       "      <td>8.000000</td>\n",
       "      <td>86.000000</td>\n",
       "      <td>10000.000000</td>\n",
       "    </tr>\n",
       "  </tbody>\n",
       "</table>\n",
       "</div>"
      ],
      "text/plain": [
       "              Age  Sleep Duration  Quality of Sleep  Physical Activity Level  \\\n",
       "count  374.000000      374.000000        374.000000               374.000000   \n",
       "mean    42.184492        7.132086          7.312834                59.171123   \n",
       "std      8.673133        0.795657          1.196956                20.830804   \n",
       "min     27.000000        5.800000          4.000000                30.000000   \n",
       "25%     35.250000        6.400000          6.000000                45.000000   \n",
       "50%     43.000000        7.200000          7.000000                60.000000   \n",
       "75%     50.000000        7.800000          8.000000                75.000000   \n",
       "max     59.000000        8.500000          9.000000                90.000000   \n",
       "\n",
       "       Stress Level  Heart Rate   Daily Steps  \n",
       "count    374.000000  374.000000    374.000000  \n",
       "mean       5.385027   70.165775   6816.844920  \n",
       "std        1.774526    4.135676   1617.915679  \n",
       "min        3.000000   65.000000   3000.000000  \n",
       "25%        4.000000   68.000000   5600.000000  \n",
       "50%        5.000000   70.000000   7000.000000  \n",
       "75%        7.000000   72.000000   8000.000000  \n",
       "max        8.000000   86.000000  10000.000000  "
      ]
     },
     "execution_count": 42,
     "metadata": {},
     "output_type": "execute_result"
    }
   ],
   "source": [
    "#geting the statstic of all columns with numerical values \n",
    "Summary_all = ds.describe()\n",
    "Summary_all.drop(columns=['Person ID'])"
   ]
  },
  {
   "cell_type": "code",
   "execution_count": 43,
   "metadata": {},
   "outputs": [
    {
     "data": {
      "text/plain": [
       "27     1\n",
       "28     5\n",
       "29    13\n",
       "30    13\n",
       "31    18\n",
       "32    17\n",
       "33    13\n",
       "34     2\n",
       "35    12\n",
       "36    12\n",
       "37    20\n",
       "38    20\n",
       "39    15\n",
       "40     4\n",
       "41    12\n",
       "42     9\n",
       "43    34\n",
       "44    30\n",
       "45    14\n",
       "48     3\n",
       "49    11\n",
       "50    20\n",
       "51     8\n",
       "52     9\n",
       "53    17\n",
       "54     7\n",
       "55     2\n",
       "56     2\n",
       "57     9\n",
       "58     6\n",
       "59    16\n",
       "Name: Age, dtype: int64"
      ]
     },
     "execution_count": 43,
     "metadata": {},
     "output_type": "execute_result"
    }
   ],
   "source": [
    "# Grouping the dataset to get the required freq\n",
    "ds_Age = ds['Age'].value_counts().sort_index()\n",
    "ds_Age"
   ]
  },
  {
   "cell_type": "markdown",
   "metadata": {},
   "source": [
    "# Creating visualizations to show the distribution of the dataset by age, gender, and occupation"
   ]
  },
  {
   "cell_type": "code",
   "execution_count": 44,
   "metadata": {},
   "outputs": [
    {
     "data": {
      "image/png": "[encoded data removed]",
      "text/plain": [
       "<Figure size 720x432 with 1 Axes>"
      ]
     },
     "metadata": {
      "needs_background": "light"
     },
     "output_type": "display_data"
    }
   ],
   "source": [
    "# Plot the bar chart\n",
    "plt.figure(figsize=(10, 6))\n",
    "ds_Age.plot(kind='bar', color='red')\n",
    "\n",
    "# Adding labels and title\n",
    "plt.title('Frequency distribution of Age',fontsize=20,fontweight='bold')\n",
    "plt.xlabel('Age')\n",
    "plt.ylabel('Frequency')\n",
    "plt.xticks(rotation=0)  # Keep x-axis labels straight\n",
    "\n",
    "plt.savefig('Frequency of Age.png')\n",
    "\n",
    "\n",
    "plt.show()"
   ]
  },
  {
   "cell_type": "code",
   "execution_count": null,
   "metadata": {},
   "outputs": [],
   "source": []
  },
  {
   "cell_type": "code",
   "execution_count": 45,
   "metadata": {},
   "outputs": [
    {
     "data": {
      "text/plain": [
       "Female    185\n",
       "Male      189\n",
       "Name: Gender, dtype: int64"
      ]
     },
     "execution_count": 45,
     "metadata": {},
     "output_type": "execute_result"
    }
   ],
   "source": [
    "ds_Gender = ds['Gender'].value_counts().sort_index()\n",
    "ds_Gender "
   ]
  },
  {
   "cell_type": "code",
   "execution_count": null,
   "metadata": {},
   "outputs": [],
   "source": []
  },
  {
   "cell_type": "code",
   "execution_count": 46,
   "metadata": {},
   "outputs": [
    {
     "data": {
      "image/png": "[encoded data removed]",
      "text/plain": [
       "<Figure size 720x432 with 1 Axes>"
      ]
     },
     "metadata": {
      "needs_background": "light"
     },
     "output_type": "display_data"
    }
   ],
   "source": [
    "# Plot the bar chart\n",
    "plt.figure(figsize=(10, 6))\n",
    "ds_Gender.plot(kind='bar', color='blue')\n",
    "\n",
    "# Adding labels and title\n",
    "plt.title('Frequency distribution of Gender',fontsize=11,fontweight='bold')\n",
    "plt.xlabel('Gender')\n",
    "plt.ylabel('Frequency')\n",
    "plt.xticks(rotation=0)  # Keep x-axis labels straight\n",
    "\n",
    "plt.savefig('Frequency of Gender.png')\n",
    "\n",
    "plt.show()"
   ]
  },
  {
   "cell_type": "markdown",
   "metadata": {},
   "source": [
    "# from the frequency distribution , males are more than females (there is a difference of 4 people)"
   ]
  },
  {
   "cell_type": "code",
   "execution_count": 47,
   "metadata": {},
   "outputs": [
    {
     "data": {
      "text/plain": [
       "Accountant              37\n",
       "Doctor                  71\n",
       "Engineer                63\n",
       "Lawyer                  47\n",
       "Manager                  1\n",
       "Nurse                   73\n",
       "Sales Representative     2\n",
       "Salesperson             32\n",
       "Scientist                4\n",
       "Software Engineer        4\n",
       "Teacher                 40\n",
       "Name: Occupation, dtype: int64"
      ]
     },
     "execution_count": 47,
     "metadata": {},
     "output_type": "execute_result"
    }
   ],
   "source": [
    "ds_Occupation = ds['Occupation'].value_counts().sort_index()\n",
    "ds_Occupation"
   ]
  },
  {
   "cell_type": "code",
   "execution_count": 48,
   "metadata": {},
   "outputs": [
    {
     "data": {
      "image/png": "[encoded data removed]",
      "text/plain": [
       "<Figure size 720x432 with 1 Axes>"
      ]
     },
     "metadata": {
      "needs_background": "light"
     },
     "output_type": "display_data"
    }
   ],
   "source": [
    "# Plot the bar chart\n",
    "plt.figure(figsize=(10, 6))\n",
    "ds_Occupation.plot(kind='bar', color='pink')\n",
    "\n",
    "# Adding labels and title\n",
    "plt.title('Frequency distribution of Occupation',fontsize=15,fontweight='bold')\n",
    "plt.xlabel('Occupation')\n",
    "plt.ylabel('Frequency')\n",
    "#plt.xticks(rotation=0)  # Keep x-axis labels straight\n",
    "\n",
    "plt.savefig('Frequency of Occupation.png')\n",
    "\n",
    "plt.show()\n"
   ]
  },
  {
   "cell_type": "markdown",
   "metadata": {},
   "source": [
    "# Sleep Analysis"
   ]
  },
  {
   "cell_type": "code",
   "execution_count": 49,
   "metadata": {},
   "outputs": [
    {
     "data": {
      "image/png": "[encoded data removed]",
      "text/plain": [
       "<Figure size 720x432 with 1 Axes>"
      ]
     },
     "metadata": {
      "needs_background": "light"
     },
     "output_type": "display_data"
    }
   ],
   "source": [
    "plt.figure(figsize=(10, 6))\n",
    "\n",
    "# Scatter plot\n",
    "sns.scatterplot(x=ds['Sleep Duration'], y=ds['Quality of Sleep'], data=ds)\n",
    "\n",
    "# Adding labels and title\n",
    "plt.title('Scatter Plot of Sleep Duration vs. Quality of Sleep')\n",
    "plt.xlabel('Sleep Duration (hours)')\n",
    "plt.ylabel('Quality of Sleep') \n",
    "\n",
    "# Show the plot\n",
    "plt.show()\n"
   ]
  },
  {
   "cell_type": "markdown",
   "metadata": {},
   "source": [
    "#The bar chart below shows that sleep duration is correlated with the quality of sleep, the relationship is illustrated in the bar chart below"
   ]
  },
  {
   "cell_type": "code",
   "execution_count": 50,
   "metadata": {},
   "outputs": [
    {
     "data": {
      "image/png": "[encoded data removed]",
      "text/plain": [
       "<Figure size 720x432 with 1 Axes>"
      ]
     },
     "metadata": {
      "needs_background": "light"
     },
     "output_type": "display_data"
    }
   ],
   "source": [
    "plt.figure(figsize=(10, 6))\n",
    "\n",
    "# Bar chart for average sleep duration by sleep quality\n",
    "sns.barplot(x='Sleep Duration', y='Quality of Sleep', data=ds, palette='viridis')\n",
    "\n",
    "# Adding labels and title\n",
    "plt.title('Average Sleep Duration by Quality of Sleep')\n",
    "plt.xlabel('Quality of Sleep')\n",
    "plt.ylabel('Average Sleep Duration (hours)')\n",
    "\n",
    "# Show the plot\n",
    "plt.show()\n"
   ]
  },
  {
   "cell_type": "markdown",
   "metadata": {},
   "source": [
    "#By looking at the height of the bars,we tell that longer sleep durations tend to be associated with higher average sleep quality. Taller bars for longer sleep durations indicate a positive relationship."
   ]
  },
  {
   "cell_type": "code",
   "execution_count": null,
   "metadata": {},
   "outputs": [],
   "source": []
  },
  {
   "cell_type": "markdown",
   "metadata": {},
   "source": [
    "#Visualizing the relationship between sleep disorder prevalence and factors of BMI and age."
   ]
  },
  {
   "cell_type": "code",
   "execution_count": 51,
   "metadata": {},
   "outputs": [
    {
     "data": {
      "image/png": "[encoded data removed]",
      "text/plain": [
       "<Figure size 720x432 with 1 Axes>"
      ]
     },
     "metadata": {
      "needs_background": "light"
     },
     "output_type": "display_data"
    }
   ],
   "source": [
    "plt.figure(figsize=(10, 6))\n",
    "\n",
    "# Scatter plot with color indicating sleep disorder prevalence\n",
    "sns.scatterplot(x='Age', y='BMI Category', hue='Sleep Disorder', style='Sleep Disorder', data=ds, palette='Set1')\n",
    "\n",
    "# Adding labels and title\n",
    "plt.title('Relationship between Age, BMI, and Sleep Disorder Prevalence')\n",
    "plt.xlabel('Age')\n",
    "plt.ylabel('BMI')\n",
    "plt.legend(title='Sleep Disorder', labels=['None', 'Sleep Apnea', 'Insomnia'])\n",
    "\n",
    "# Show the plot\n",
    "plt.show()\n",
    "\n"
   ]
  },
  {
   "cell_type": "code",
   "execution_count": null,
   "metadata": {},
   "outputs": [],
   "source": []
  },
  {
   "cell_type": "code",
   "execution_count": 52,
   "metadata": {},
   "outputs": [
    {
     "data": {
      "text/plain": [
       "0             None\n",
       "1             None\n",
       "2             None\n",
       "3      Sleep Apnea\n",
       "4      Sleep Apnea\n",
       "          ...     \n",
       "369    Sleep Apnea\n",
       "370    Sleep Apnea\n",
       "371    Sleep Apnea\n",
       "372    Sleep Apnea\n",
       "373    Sleep Apnea\n",
       "Name: Sleep Disorder, Length: 374, dtype: object"
      ]
     },
     "execution_count": 52,
     "metadata": {},
     "output_type": "execute_result"
    }
   ],
   "source": [
    "ds['Sleep Disorder']"
   ]
  },
  {
   "cell_type": "markdown",
   "metadata": {},
   "source": [
    "Activity and Health Metrics"
   ]
  },
  {
   "cell_type": "markdown",
   "metadata": {},
   "source": [
    "# Activity and Health Metrics"
   ]
  },
  {
   "cell_type": "markdown",
   "metadata": {},
   "source": [
    "A Scatter Plot"
   ]
  },
  {
   "cell_type": "code",
   "execution_count": 53,
   "metadata": {},
   "outputs": [
    {
     "data": {
      "image/png": "[encoded data removed]",
      "text/plain": [
       "<Figure size 720x432 with 1 Axes>"
      ]
     },
     "metadata": {
      "needs_background": "light"
     },
     "output_type": "display_data"
    }
   ],
   "source": [
    "plt.figure(figsize=(10, 6))\n",
    "\n",
    "# Scatter plot\n",
    "sns.scatterplot(x='Physical Activity Level', y='Heart Rate', data=ds)\n",
    "\n",
    "# Adding a regression line to visualize trends\n",
    "sns.regplot(x='Physical Activity Level', y='Heart Rate', data=ds, scatter=False, color='yellow')\n",
    "\n",
    "# Adding labels and title\n",
    "plt.title('Relationship between Physical Activity Level and Heart Rate')\n",
    "plt.xlabel('Physical Activity Level (minutes/week or other measure)')\n",
    "plt.ylabel('Resting Heart Rate (bpm)')\n",
    "\n",
    "# Show the plot\n",
    "plt.show()\n"
   ]
  },
  {
   "cell_type": "code",
   "execution_count": 54,
   "metadata": {},
   "outputs": [
    {
     "data": {
      "text/plain": [
       "0.13697098321363163"
      ]
     },
     "execution_count": 54,
     "metadata": {},
     "output_type": "execute_result"
    }
   ],
   "source": [
    "# Calculate the correlation coefficient\n",
    "correlation = ds['Physical Activity Level'].corr(ds['Heart Rate'])\n",
    "\n",
    "correlation #there no or weak linear correlation (no relationship between the variables) since the correlation coefficient is 0"
   ]
  },
  {
   "cell_type": "code",
   "execution_count": null,
   "metadata": {},
   "outputs": [],
   "source": []
  },
  {
   "cell_type": "markdown",
   "metadata": {},
   "source": [
    "A Line Graph"
   ]
  },
  {
   "cell_type": "code",
   "execution_count": 55,
   "metadata": {},
   "outputs": [],
   "source": [
    "# We calculate the average heart rate for each activity level\n",
    "Av_heart_rate = ds.groupby('Physical Activity Level')['Heart Rate'].mean().reset_index()"
   ]
  },
  {
   "cell_type": "code",
   "execution_count": 56,
   "metadata": {},
   "outputs": [
    {
     "data": {
      "text/html": [
       "<div>\n",
       "<style scoped>\n",
       "    .dataframe tbody tr th:only-of-type {\n",
       "        vertical-align: middle;\n",
       "    }\n",
       "\n",
       "    .dataframe tbody tr th {\n",
       "        vertical-align: top;\n",
       "    }\n",
       "\n",
       "    .dataframe thead th {\n",
       "        text-align: right;\n",
       "    }\n",
       "</style>\n",
       "<table border=\"1\" class=\"dataframe\">\n",
       "  <thead>\n",
       "    <tr style=\"text-align: right;\">\n",
       "      <th></th>\n",
       "      <th>Physical Activity Level</th>\n",
       "      <th>Heart Rate</th>\n",
       "    </tr>\n",
       "  </thead>\n",
       "  <tbody>\n",
       "    <tr>\n",
       "      <th>0</th>\n",
       "      <td>30</td>\n",
       "      <td>68.897059</td>\n",
       "    </tr>\n",
       "    <tr>\n",
       "      <th>1</th>\n",
       "      <td>32</td>\n",
       "      <td>81.000000</td>\n",
       "    </tr>\n",
       "    <tr>\n",
       "      <th>2</th>\n",
       "      <td>35</td>\n",
       "      <td>76.000000</td>\n",
       "    </tr>\n",
       "    <tr>\n",
       "      <th>3</th>\n",
       "      <td>40</td>\n",
       "      <td>77.000000</td>\n",
       "    </tr>\n",
       "    <tr>\n",
       "      <th>4</th>\n",
       "      <td>42</td>\n",
       "      <td>77.000000</td>\n",
       "    </tr>\n",
       "    <tr>\n",
       "      <th>5</th>\n",
       "      <td>45</td>\n",
       "      <td>69.632353</td>\n",
       "    </tr>\n",
       "    <tr>\n",
       "      <th>6</th>\n",
       "      <td>47</td>\n",
       "      <td>69.000000</td>\n",
       "    </tr>\n",
       "    <tr>\n",
       "      <th>7</th>\n",
       "      <td>50</td>\n",
       "      <td>73.750000</td>\n",
       "    </tr>\n",
       "    <tr>\n",
       "      <th>8</th>\n",
       "      <td>55</td>\n",
       "      <td>72.833333</td>\n",
       "    </tr>\n",
       "    <tr>\n",
       "      <th>9</th>\n",
       "      <td>60</td>\n",
       "      <td>68.485714</td>\n",
       "    </tr>\n",
       "    <tr>\n",
       "      <th>10</th>\n",
       "      <td>65</td>\n",
       "      <td>83.000000</td>\n",
       "    </tr>\n",
       "    <tr>\n",
       "      <th>11</th>\n",
       "      <td>70</td>\n",
       "      <td>69.333333</td>\n",
       "    </tr>\n",
       "    <tr>\n",
       "      <th>12</th>\n",
       "      <td>75</td>\n",
       "      <td>69.089552</td>\n",
       "    </tr>\n",
       "    <tr>\n",
       "      <th>13</th>\n",
       "      <td>80</td>\n",
       "      <td>67.000000</td>\n",
       "    </tr>\n",
       "    <tr>\n",
       "      <th>14</th>\n",
       "      <td>85</td>\n",
       "      <td>86.000000</td>\n",
       "    </tr>\n",
       "    <tr>\n",
       "      <th>15</th>\n",
       "      <td>90</td>\n",
       "      <td>72.179104</td>\n",
       "    </tr>\n",
       "  </tbody>\n",
       "</table>\n",
       "</div>"
      ],
      "text/plain": [
       "    Physical Activity Level  Heart Rate\n",
       "0                        30   68.897059\n",
       "1                        32   81.000000\n",
       "2                        35   76.000000\n",
       "3                        40   77.000000\n",
       "4                        42   77.000000\n",
       "5                        45   69.632353\n",
       "6                        47   69.000000\n",
       "7                        50   73.750000\n",
       "8                        55   72.833333\n",
       "9                        60   68.485714\n",
       "10                       65   83.000000\n",
       "11                       70   69.333333\n",
       "12                       75   69.089552\n",
       "13                       80   67.000000\n",
       "14                       85   86.000000\n",
       "15                       90   72.179104"
      ]
     },
     "execution_count": 56,
     "metadata": {},
     "output_type": "execute_result"
    }
   ],
   "source": [
    "Av_heart_rate"
   ]
  },
  {
   "cell_type": "code",
   "execution_count": 57,
   "metadata": {},
   "outputs": [
    {
     "data": {
      "image/png": "[encoded data removed]",
      "text/plain": [
       "<Figure size 720x432 with 1 Axes>"
      ]
     },
     "metadata": {
      "needs_background": "light"
     },
     "output_type": "display_data"
    }
   ],
   "source": [
    "plt.figure(figsize=(10, 6))\n",
    "\n",
    "# Line graph\n",
    "sns.lineplot(x='Physical Activity Level', y='Heart Rate', data=Av_heart_rate, marker='o')\n",
    "\n",
    "# Adding labels and title\n",
    "plt.title('Average Heart Rate by Physical Activity Level')\n",
    "plt.xlabel('Physical Activity Level')\n",
    "plt.ylabel('Average Resting Heart Rate (bpm)')\n",
    "\n",
    "# Show the plot\n",
    "plt.show()\n"
   ]
  },
  {
   "cell_type": "markdown",
   "metadata": {},
   "source": [
    " #Showing the distribution of daily steps across different BMI categories using a box plot. "
   ]
  },
  {
   "cell_type": "code",
   "execution_count": 58,
   "metadata": {},
   "outputs": [
    {
     "data": {
      "image/png": "[encoded data removed]",
      "text/plain": [
       "<Figure size 720x432 with 1 Axes>"
      ]
     },
     "metadata": {
      "needs_background": "light"
     },
     "output_type": "display_data"
    }
   ],
   "source": [
    "plt.figure(figsize=(10, 6))\n",
    "\n",
    "# Box plot\n",
    "sns.boxplot(x='BMI Category', y='Daily Steps', data=ds, palette='Set2')\n",
    "\n",
    "# Adding labels and title\n",
    "plt.title('Distribution of Daily Steps Across BMI Categories')\n",
    "plt.xlabel('BMI Category')\n",
    "plt.ylabel('Daily Steps')\n",
    "\n",
    "# Show the plot\n",
    "plt.show()\n"
   ]
  },
  {
   "cell_type": "markdown",
   "metadata": {},
   "source": [
    "#There a trend, individuals in higher BMI categories (Overweight and Obese) tend to take fewer daily steps on average compared to those in lower BMI categories (Underweight and Normal).\n",
    "This indicates a potential negative relationship between BMI and daily steps,individuals with higher BMI may engage in less physical activity or take fewer steps daily"
   ]
  },
  {
   "cell_type": "markdown",
   "metadata": {},
   "source": [
    "Use a heatmap or scatter plot to explore the relationship between stress\n",
    " levels and quality of sleep."
   ]
  },
  {
   "cell_type": "code",
   "execution_count": 59,
   "metadata": {},
   "outputs": [
    {
     "data": {
      "image/png": "[encoded data removed]",
      "text/plain": [
       "<Figure size 720x432 with 1 Axes>"
      ]
     },
     "metadata": {
      "needs_background": "light"
     },
     "output_type": "display_data"
    }
   ],
   "source": [
    "plt.figure(figsize=(10, 6))\n",
    "\n",
    "# Scatter plot\n",
    "sns.scatterplot(x='Stress Level', y='Quality of Sleep', data=ds)\n",
    "\n",
    "# Adding a regression line to visualize trends\n",
    "sns.regplot(x='Stress Level', y='Quality of Sleep', data=ds, scatter=False, color='red')\n",
    "\n",
    "# Adding labels and title\n",
    "plt.title('Relationship between Stress Levels and Quality of Sleep')\n",
    "plt.xlabel('Stress Level (1 to 10)')\n",
    "plt.ylabel('Quality of Sleep (1 to 10)')\n",
    "\n",
    "# Show the plot\n",
    "plt.show()\n"
   ]
  },
  {
   "cell_type": "code",
   "execution_count": 60,
   "metadata": {},
   "outputs": [
    {
     "data": {
      "text/plain": [
       "-0.8987520310040422"
      ]
     },
     "execution_count": 60,
     "metadata": {},
     "output_type": "execute_result"
    }
   ],
   "source": [
    "# Calculate the correlation coefficient\n",
    "correlation = ds['Stress Level'].corr(ds['Quality of Sleep'])\n",
    "\n",
    "correlation #The correlation coefficient is approximately -0.899, indicating a strong negative correlation."
   ]
  },
  {
   "cell_type": "code",
   "execution_count": null,
   "metadata": {},
   "outputs": [],
   "source": []
  },
  {
   "cell_type": "code",
   "execution_count": 61,
   "metadata": {},
   "outputs": [
    {
     "data": {
      "image/png": "[encoded data removed]",
      "text/plain": [
       "<Figure size 576x432 with 2 Axes>"
      ]
     },
     "metadata": {
      "needs_background": "light"
     },
     "output_type": "display_data"
    }
   ],
   "source": [
    "# Create a contingency table\n",
    "contingency_table = pd.crosstab(ds['Stress Level'], ds['Quality of Sleep'])\n",
    "\n",
    "# Create a heatmap\n",
    "plt.figure(figsize=(8, 6))\n",
    "sns.heatmap(contingency_table, annot=True, fmt='d', cmap='YlGnBu', cbar=True)\n",
    "\n",
    "# Adding labels and title\n",
    "plt.title('Heatmap of Stress Levels vs Quality of Sleep')\n",
    "plt.xlabel('Quality of Sleep')\n",
    "plt.ylabel('Stress Level')\n",
    "\n",
    "# Show the plot\n",
    "plt.show()"
   ]
  },
  {
   "cell_type": "code",
   "execution_count": null,
   "metadata": {},
   "outputs": [],
   "source": []
  }
 ],
 "metadata": {
  "kernelspec": {
   "display_name": "Python 3",
   "language": "python",
   "name": "python3"
  },
  "language_info": {
   "codemirror_mode": {
    "name": "ipython",
    "version": 3
   },
   "file_extension": ".py",
   "mimetype": "text/x-python",
   "name": "python",
   "nbconvert_exporter": "python",
   "pygments_lexer": "ipython3",
   "version": "3.7.6"
  }
 },
 "nbformat": 4,
 "nbformat_minor": 4
}
